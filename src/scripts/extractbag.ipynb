{
 "cells": [
  {
   "cell_type": "markdown",
   "metadata": {},
   "source": [
    "# Import ROS2 bag file"
   ]
  },
  {
   "cell_type": "code",
   "execution_count": 7,
   "metadata": {},
   "outputs": [
    {
     "name": "stdout",
     "output_type": "stream",
     "text": [
      "Requirement already satisfied: numpy in /Users/zach-mcc/.pyenv/versions/3.10.8/envs/ros-venv/lib/python3.10/site-packages (1.23.5)\n",
      "\n",
      "\u001b[1m[\u001b[0m\u001b[34;49mnotice\u001b[0m\u001b[1;39;49m]\u001b[0m\u001b[39;49m A new release of pip available: \u001b[0m\u001b[31;49m22.2.2\u001b[0m\u001b[39;49m -> \u001b[0m\u001b[32;49m22.3.1\u001b[0m\n",
      "\u001b[1m[\u001b[0m\u001b[34;49mnotice\u001b[0m\u001b[1;39;49m]\u001b[0m\u001b[39;49m To update, run: \u001b[0m\u001b[32;49mpip install --upgrade pip\u001b[0m\n",
      "Requirement already satisfied: pandas in /Users/zach-mcc/.pyenv/versions/3.10.8/envs/ros-venv/lib/python3.10/site-packages (1.5.2)\n",
      "Requirement already satisfied: python-dateutil>=2.8.1 in /Users/zach-mcc/.pyenv/versions/3.10.8/envs/ros-venv/lib/python3.10/site-packages (from pandas) (2.8.2)\n",
      "Requirement already satisfied: pytz>=2020.1 in /Users/zach-mcc/.pyenv/versions/3.10.8/envs/ros-venv/lib/python3.10/site-packages (from pandas) (2022.6)\n",
      "Requirement already satisfied: numpy>=1.21.0 in /Users/zach-mcc/.pyenv/versions/3.10.8/envs/ros-venv/lib/python3.10/site-packages (from pandas) (1.23.5)\n",
      "Requirement already satisfied: six>=1.5 in /Users/zach-mcc/.pyenv/versions/3.10.8/envs/ros-venv/lib/python3.10/site-packages (from python-dateutil>=2.8.1->pandas) (1.16.0)\n",
      "\n",
      "\u001b[1m[\u001b[0m\u001b[34;49mnotice\u001b[0m\u001b[1;39;49m]\u001b[0m\u001b[39;49m A new release of pip available: \u001b[0m\u001b[31;49m22.2.2\u001b[0m\u001b[39;49m -> \u001b[0m\u001b[32;49m22.3.1\u001b[0m\n",
      "\u001b[1m[\u001b[0m\u001b[34;49mnotice\u001b[0m\u001b[1;39;49m]\u001b[0m\u001b[39;49m To update, run: \u001b[0m\u001b[32;49mpip install --upgrade pip\u001b[0m\n",
      "Requirement already satisfied: matplotlib in /Users/zach-mcc/.pyenv/versions/3.10.8/envs/ros-venv/lib/python3.10/site-packages (3.6.2)\n",
      "Requirement already satisfied: python-dateutil>=2.7 in /Users/zach-mcc/.pyenv/versions/3.10.8/envs/ros-venv/lib/python3.10/site-packages (from matplotlib) (2.8.2)\n",
      "Requirement already satisfied: contourpy>=1.0.1 in /Users/zach-mcc/.pyenv/versions/3.10.8/envs/ros-venv/lib/python3.10/site-packages (from matplotlib) (1.0.6)\n",
      "Requirement already satisfied: cycler>=0.10 in /Users/zach-mcc/.pyenv/versions/3.10.8/envs/ros-venv/lib/python3.10/site-packages (from matplotlib) (0.11.0)\n",
      "Requirement already satisfied: kiwisolver>=1.0.1 in /Users/zach-mcc/.pyenv/versions/3.10.8/envs/ros-venv/lib/python3.10/site-packages (from matplotlib) (1.4.4)\n",
      "Requirement already satisfied: pillow>=6.2.0 in /Users/zach-mcc/.pyenv/versions/3.10.8/envs/ros-venv/lib/python3.10/site-packages (from matplotlib) (9.3.0)\n",
      "Requirement already satisfied: numpy>=1.19 in /Users/zach-mcc/.pyenv/versions/3.10.8/envs/ros-venv/lib/python3.10/site-packages (from matplotlib) (1.23.5)\n",
      "Requirement already satisfied: fonttools>=4.22.0 in /Users/zach-mcc/.pyenv/versions/3.10.8/envs/ros-venv/lib/python3.10/site-packages (from matplotlib) (4.38.0)\n",
      "Requirement already satisfied: pyparsing>=2.2.1 in /Users/zach-mcc/.pyenv/versions/3.10.8/envs/ros-venv/lib/python3.10/site-packages (from matplotlib) (3.0.9)\n",
      "Requirement already satisfied: packaging>=20.0 in /Users/zach-mcc/.pyenv/versions/3.10.8/envs/ros-venv/lib/python3.10/site-packages (from matplotlib) (21.3)\n",
      "Requirement already satisfied: six>=1.5 in /Users/zach-mcc/.pyenv/versions/3.10.8/envs/ros-venv/lib/python3.10/site-packages (from python-dateutil>=2.7->matplotlib) (1.16.0)\n",
      "\n",
      "\u001b[1m[\u001b[0m\u001b[34;49mnotice\u001b[0m\u001b[1;39;49m]\u001b[0m\u001b[39;49m A new release of pip available: \u001b[0m\u001b[31;49m22.2.2\u001b[0m\u001b[39;49m -> \u001b[0m\u001b[32;49m22.3.1\u001b[0m\n",
      "\u001b[1m[\u001b[0m\u001b[34;49mnotice\u001b[0m\u001b[1;39;49m]\u001b[0m\u001b[39;49m To update, run: \u001b[0m\u001b[32;49mpip install --upgrade pip\u001b[0m\n",
      "Requirement already satisfied: rosbags in /Users/zach-mcc/.pyenv/versions/3.10.8/envs/ros-venv/lib/python3.10/site-packages (0.9.13)\n",
      "Requirement already satisfied: numpy in /Users/zach-mcc/.pyenv/versions/3.10.8/envs/ros-venv/lib/python3.10/site-packages (from rosbags) (1.23.5)\n",
      "Requirement already satisfied: ruamel.yaml in /Users/zach-mcc/.pyenv/versions/3.10.8/envs/ros-venv/lib/python3.10/site-packages (from rosbags) (0.17.21)\n",
      "Requirement already satisfied: lz4 in /Users/zach-mcc/.pyenv/versions/3.10.8/envs/ros-venv/lib/python3.10/site-packages (from rosbags) (4.0.2)\n",
      "Requirement already satisfied: zstandard in /Users/zach-mcc/.pyenv/versions/3.10.8/envs/ros-venv/lib/python3.10/site-packages (from rosbags) (0.19.0)\n",
      "Requirement already satisfied: ruamel.yaml.clib>=0.2.6 in /Users/zach-mcc/.pyenv/versions/3.10.8/envs/ros-venv/lib/python3.10/site-packages (from ruamel.yaml->rosbags) (0.2.7)\n",
      "\n",
      "\u001b[1m[\u001b[0m\u001b[34;49mnotice\u001b[0m\u001b[1;39;49m]\u001b[0m\u001b[39;49m A new release of pip available: \u001b[0m\u001b[31;49m22.2.2\u001b[0m\u001b[39;49m -> \u001b[0m\u001b[32;49m22.3.1\u001b[0m\n",
      "\u001b[1m[\u001b[0m\u001b[34;49mnotice\u001b[0m\u001b[1;39;49m]\u001b[0m\u001b[39;49m To update, run: \u001b[0m\u001b[32;49mpip install --upgrade pip\u001b[0m\n",
      "Collecting rosbags-dataframe\n",
      "  Downloading rosbags_dataframe-0.9.0-py3-none-any.whl (8.8 kB)\n",
      "Requirement already satisfied: pandas in /Users/zach-mcc/.pyenv/versions/3.10.8/envs/ros-venv/lib/python3.10/site-packages (from rosbags-dataframe) (1.5.2)\n",
      "Requirement already satisfied: rosbags in /Users/zach-mcc/.pyenv/versions/3.10.8/envs/ros-venv/lib/python3.10/site-packages (from rosbags-dataframe) (0.9.13)\n",
      "Requirement already satisfied: numpy>=1.21.0 in /Users/zach-mcc/.pyenv/versions/3.10.8/envs/ros-venv/lib/python3.10/site-packages (from pandas->rosbags-dataframe) (1.23.5)\n",
      "Requirement already satisfied: pytz>=2020.1 in /Users/zach-mcc/.pyenv/versions/3.10.8/envs/ros-venv/lib/python3.10/site-packages (from pandas->rosbags-dataframe) (2022.6)\n",
      "Requirement already satisfied: python-dateutil>=2.8.1 in /Users/zach-mcc/.pyenv/versions/3.10.8/envs/ros-venv/lib/python3.10/site-packages (from pandas->rosbags-dataframe) (2.8.2)\n",
      "Requirement already satisfied: ruamel.yaml in /Users/zach-mcc/.pyenv/versions/3.10.8/envs/ros-venv/lib/python3.10/site-packages (from rosbags->rosbags-dataframe) (0.17.21)\n",
      "Requirement already satisfied: zstandard in /Users/zach-mcc/.pyenv/versions/3.10.8/envs/ros-venv/lib/python3.10/site-packages (from rosbags->rosbags-dataframe) (0.19.0)\n",
      "Requirement already satisfied: lz4 in /Users/zach-mcc/.pyenv/versions/3.10.8/envs/ros-venv/lib/python3.10/site-packages (from rosbags->rosbags-dataframe) (4.0.2)\n",
      "Requirement already satisfied: six>=1.5 in /Users/zach-mcc/.pyenv/versions/3.10.8/envs/ros-venv/lib/python3.10/site-packages (from python-dateutil>=2.8.1->pandas->rosbags-dataframe) (1.16.0)\n",
      "Requirement already satisfied: ruamel.yaml.clib>=0.2.6 in /Users/zach-mcc/.pyenv/versions/3.10.8/envs/ros-venv/lib/python3.10/site-packages (from ruamel.yaml->rosbags->rosbags-dataframe) (0.2.7)\n",
      "Installing collected packages: rosbags-dataframe\n",
      "Successfully installed rosbags-dataframe-0.9.0\n",
      "\n",
      "\u001b[1m[\u001b[0m\u001b[34;49mnotice\u001b[0m\u001b[1;39;49m]\u001b[0m\u001b[39;49m A new release of pip available: \u001b[0m\u001b[31;49m22.2.2\u001b[0m\u001b[39;49m -> \u001b[0m\u001b[32;49m22.3.1\u001b[0m\n",
      "\u001b[1m[\u001b[0m\u001b[34;49mnotice\u001b[0m\u001b[1;39;49m]\u001b[0m\u001b[39;49m To update, run: \u001b[0m\u001b[32;49mpip install --upgrade pip\u001b[0m\n"
     ]
    }
   ],
   "source": [
    "import os\n",
    "\n",
    "!{sys.executable} -m pip install numpy\n",
    "!{sys.executable} -m pip install pandas\n",
    "!{sys.executable} -m pip install matplotlib\n",
    "!{sys.executable} -m pip install rosbags\n",
    "!{sys.executable} -m pip install rosbags-dataframe\n",
    "\n",
    "import re\n",
    "from pathlib import Path\n",
    "from argparse import ArgumentParser\n",
    "import pandas as pd\n",
    "import numpy as np\n",
    "import matplotlib.pyplot as plt\n",
    "from rosbags.dataframe import get_dataframe\n",
    "from rosbags.highlevel import AnyReader\n",
    "\n"
   ]
  },
  {
   "cell_type": "code",
   "execution_count": 16,
   "metadata": {},
   "outputs": [],
   "source": [
    "# SET PARAMETERS\n",
    "\n",
    "# Path to the bag file\n",
    "path = Path('/Users/zach-mcc/Downloads')\n",
    "bag_name = 'rosbags'\n",
    "\n",
    "bag_path = path / bag_name"
   ]
  },
  {
   "cell_type": "code",
   "execution_count": 10,
   "metadata": {},
   "outputs": [
    {
     "ename": "TypeError",
     "evalue": "object of type 'PosixPath' has no len()",
     "output_type": "error",
     "traceback": [
      "\u001b[0;31m---------------------------------------------------------------------------\u001b[0m",
      "\u001b[0;31mTypeError\u001b[0m                                 Traceback (most recent call last)",
      "Cell \u001b[0;32mIn[10], line 1\u001b[0m\n\u001b[0;32m----> 1\u001b[0m \u001b[39mwith\u001b[39;00m AnyReader(bag_path) \u001b[39mas\u001b[39;00m bag:\n\u001b[1;32m      2\u001b[0m     df \u001b[39m=\u001b[39m get_dataframe(bag)\n",
      "File \u001b[0;32m~/.pyenv/versions/3.10.8/envs/ros-venv/lib/python3.10/site-packages/rosbags/highlevel/anyreader.py:81\u001b[0m, in \u001b[0;36mAnyReader.__init__\u001b[0;34m(self, paths)\u001b[0m\n\u001b[1;32m     78\u001b[0m \u001b[39mif\u001b[39;00m \u001b[39mnot\u001b[39;00m paths:\n\u001b[1;32m     79\u001b[0m     \u001b[39mraise\u001b[39;00m AnyReaderError(\u001b[39m'\u001b[39m\u001b[39mMust call with at least one path.\u001b[39m\u001b[39m'\u001b[39m)\n\u001b[0;32m---> 81\u001b[0m \u001b[39mif\u001b[39;00m \u001b[39mlen\u001b[39;49m(paths) \u001b[39m>\u001b[39m \u001b[39m1\u001b[39m \u001b[39mand\u001b[39;00m \u001b[39many\u001b[39m((x \u001b[39m/\u001b[39m \u001b[39m'\u001b[39m\u001b[39mmetadata.yaml\u001b[39m\u001b[39m'\u001b[39m)\u001b[39m.\u001b[39mexists() \u001b[39mfor\u001b[39;00m x \u001b[39min\u001b[39;00m paths):\n\u001b[1;32m     82\u001b[0m     \u001b[39mraise\u001b[39;00m AnyReaderError(\u001b[39m'\u001b[39m\u001b[39mOpening of multiple rosbag2 recordings is not supported.\u001b[39m\u001b[39m'\u001b[39m)\n\u001b[1;32m     84\u001b[0m \u001b[39mif\u001b[39;00m missing \u001b[39m:=\u001b[39m [x \u001b[39mfor\u001b[39;00m x \u001b[39min\u001b[39;00m paths \u001b[39mif\u001b[39;00m \u001b[39mnot\u001b[39;00m x\u001b[39m.\u001b[39mexists()]:\n",
      "\u001b[0;31mTypeError\u001b[0m: object of type 'PosixPath' has no len()"
     ]
    }
   ],
   "source": [
    "with AnyReader(bag_path) as reader:\n",
    "    \n",
    "# create reader instance and open for reading\n",
    "with Reader('/home/ros/rosbag_2020_03_24') as reader:\n",
    "    # topic and msgtype information is available on .connections list\n",
    "    for connection in reader.connections:\n",
    "        print(connection.topic, connection.msgtype)\n",
    "\n",
    "    # iterate over messages\n",
    "    for connection, timestamp, rawdata in reader.messages():\n",
    "        if connection.topic == '/imu_raw/Imu':\n",
    "            msg = deserialize_cdr(rawdata, connection.msgtype)\n",
    "            print(msg.header.frame_id)\n",
    "\n",
    "    # messages() accepts connection filters\n",
    "    connections = [x for x in reader.connections if x.topic == '/imu_raw/Imu']\n",
    "    for connection, timestamp, rawdata in reader.messages(connections=connections):\n",
    "        msg = deserialize_cdr(rawdata, connection.msgtype)\n",
    "        print(msg.header.frame_id)"
   ]
  },
  {
   "cell_type": "code",
   "execution_count": 23,
   "metadata": {},
   "outputs": [
    {
     "name": "stdout",
     "output_type": "stream",
     "text": [
      "TOPIC : /gnss/syncrho                  \t MSG_TYPE : gnss_sdr2/msg/Observables\n",
      "TOPIC : /gnss/pvt                      \t MSG_TYPE : gnss_sdr2/msg/MonitorPvt\n",
      "TOPIC : /rosout_agg                    \t MSG_TYPE : rcl_interfaces/msg/Log\n",
      "TOPIC : /parameter_events              \t MSG_TYPE : rcl_interfaces/msg/ParameterEvent\n",
      "TOPIC : /rosout                        \t MSG_TYPE : rcl_interfaces/msg/Log\n"
     ]
    }
   ],
   "source": [
    "from rosbags.rosbag2 import Reader\n",
    "from rosbags.serde import deserialize_cdr\n",
    "\n",
    "# create reader instance and open for reading\n",
    "with Reader(bag_path) as reader:\n",
    "    # topic and msgtype information is available on .connections list\n",
    "    for connection in reader.connections:\n",
    "        print(f\"TOPIC : {connection.topic:30} \\t MSG_TYPE : {connection.msgtype}\")\n",
    "\n",
    "    # iterate over messages\n",
    "    # for connection, timestamp, rawdata in reader.messages():\n",
    "    #     if connection.topic == '/imu_raw/Imu':\n",
    "    #         msg = deserialize_cdr(rawdata, connection.msgtype)\n",
    "    #         print(msg.header.frame_id)\n",
    "\n",
    "    # messages() accepts connection filters\n",
    "    # connections = [x for x in reader.connections if x.topic == '/imu_raw/Imu']\n",
    "    # for connection, timestamp, rawdata in reader.messages(connections=connections):\n",
    "    #     msg = deserialize_cdr(rawdata, connection.msgtype)\n",
    "    #     print(msg)\n"
   ]
  },
  {
   "cell_type": "code",
   "execution_count": null,
   "metadata": {},
   "outputs": [],
   "source": []
  }
 ],
 "metadata": {
  "kernelspec": {
   "display_name": "Python 3.10.8 64-bit ('ros-venv')",
   "language": "python",
   "name": "python3"
  },
  "language_info": {
   "codemirror_mode": {
    "name": "ipython",
    "version": 3
   },
   "file_extension": ".py",
   "mimetype": "text/x-python",
   "name": "python",
   "nbconvert_exporter": "python",
   "pygments_lexer": "ipython3",
   "version": "3.10.8"
  },
  "orig_nbformat": 4,
  "vscode": {
   "interpreter": {
    "hash": "9af9c7ba2a98a5fd56c691f351029999999b7f23fb139f9e3ba51ad9d3f2b8d5"
   }
  }
 },
 "nbformat": 4,
 "nbformat_minor": 2
}
